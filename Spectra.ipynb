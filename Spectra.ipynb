{
 "cells": [
  {
   "cell_type": "markdown",
   "metadata": {},
   "source": [
    "Spectra\n",
    "---\n",
    "\n",
    "Download all the Jupyter notebooks from: https://github.com/HeloiseS/hoki/tree/master/tutorials"
   ]
  },
  {
   "cell_type": "markdown",
   "metadata": {},
   "source": [
    "# Initial Imports"
   ]
  },
  {
   "cell_type": "code",
   "execution_count": 1,
   "metadata": {},
   "outputs": [],
   "source": [
    "from hoki import load\n",
    "from hoki.spec import dopcor\n",
    "import hoki.spec\n",
    "import pandas as pd\n",
    "import matplotlib.pyplot as plt\n",
    "import numpy as np\n",
    "from sklearn.preprocessing import MinMaxScaler\n",
    "import pysynphot as psp\n",
    "\n",
    "%matplotlib inline\n",
    "\n",
    "plt.style.use('tuto.mplstyle')"
   ]
  },
  {
   "cell_type": "markdown",
   "metadata": {},
   "source": [
    "### In this tutorial you will:\n",
    "\n",
    "- Load BPASS synthetic spectra through `hoki`\n",
    "- Manipulated an plot these synthetic spectra\n",
    "- Compare them to observational data and find best matches \n",
    "- Get more familiar with `pandas` if you are not already\n",
    "- Pass a spectrum through a filter using `hoki.spec` and `pysynphot`"
   ]
  },
  {
   "cell_type": "markdown",
   "metadata": {},
   "source": [
    "# Loading Spectra in `hoki`\n",
    "\n",
    "The synthetic spectra returned by BPASS are given in ASCII files, grouped by metallicity (`zXXX`) and whether the population is made up of just single stars (`-sin-`) or also contains binary stars (`-bin`).\n",
    "Each file contains the wavelenght bin in its first column and the following 51 columns are the synthetic spectra of the population at each BPASS time bins. The wavelength ranges from 1 to 100,000 Angstrom.\n",
    "\n",
    "We can load each file into a `pandas.DataFrame` using the `hoki.load.model_output()` function.\n",
    "**This may take a few seconds.**\n",
    "For the purposes of this tutorial we are only going to load two sets of synthetic spectra: solar metallicity and a tenth solar  - both including binary stars. "
   ]
  },
  {
   "cell_type": "code",
   "execution_count": 2,
   "metadata": {},
   "outputs": [],
   "source": [
    "ss_z002 = load.model_output('./data/spectra/spectra-bin-imf135_300.z002.dat')\n",
    "ss_z020 = load.model_output('./data/spectra/spectra-bin-imf135_300.z020.dat')"
   ]
  },
  {
   "cell_type": "code",
   "execution_count": 3,
   "metadata": {},
   "outputs": [
    {
     "data": {
      "text/html": [
       "<div>\n",
       "<style scoped>\n",
       "    .dataframe tbody tr th:only-of-type {\n",
       "        vertical-align: middle;\n",
       "    }\n",
       "\n",
       "    .dataframe tbody tr th {\n",
       "        vertical-align: top;\n",
       "    }\n",
       "\n",
       "    .dataframe thead th {\n",
       "        text-align: right;\n",
       "    }\n",
       "</style>\n",
       "<table border=\"1\" class=\"dataframe\">\n",
       "  <thead>\n",
       "    <tr style=\"text-align: right;\">\n",
       "      <th></th>\n",
       "      <th>WL</th>\n",
       "      <th>6.0</th>\n",
       "      <th>6.1</th>\n",
       "      <th>6.2</th>\n",
       "      <th>6.3</th>\n",
       "      <th>6.4</th>\n",
       "      <th>6.5</th>\n",
       "      <th>6.6</th>\n",
       "      <th>6.7</th>\n",
       "      <th>6.8</th>\n",
       "      <th>...</th>\n",
       "      <th>10.1</th>\n",
       "      <th>10.2</th>\n",
       "      <th>10.3</th>\n",
       "      <th>10.4</th>\n",
       "      <th>10.5</th>\n",
       "      <th>10.6</th>\n",
       "      <th>10.7</th>\n",
       "      <th>10.8</th>\n",
       "      <th>10.9</th>\n",
       "      <th>11.0</th>\n",
       "    </tr>\n",
       "  </thead>\n",
       "  <tbody>\n",
       "    <tr>\n",
       "      <th>0</th>\n",
       "      <td>1.0</td>\n",
       "      <td>2.745775e-40</td>\n",
       "      <td>2.702434e-40</td>\n",
       "      <td>3.047202e-40</td>\n",
       "      <td>4.195247e-38</td>\n",
       "      <td>7.912627e-38</td>\n",
       "      <td>2.884525e-38</td>\n",
       "      <td>9.237552e-39</td>\n",
       "      <td>1.976199e-38</td>\n",
       "      <td>5.478071e-38</td>\n",
       "      <td>...</td>\n",
       "      <td>3.143051e-40</td>\n",
       "      <td>4.732241e-40</td>\n",
       "      <td>2.407628e-40</td>\n",
       "      <td>1.854254e-40</td>\n",
       "      <td>1.770071e-40</td>\n",
       "      <td>3.505892e-40</td>\n",
       "      <td>1.656219e-40</td>\n",
       "      <td>1.040945e-40</td>\n",
       "      <td>2.193011e-40</td>\n",
       "      <td>3.402488e-41</td>\n",
       "    </tr>\n",
       "    <tr>\n",
       "      <th>1</th>\n",
       "      <td>2.0</td>\n",
       "      <td>2.745775e-40</td>\n",
       "      <td>2.702434e-40</td>\n",
       "      <td>3.047202e-40</td>\n",
       "      <td>4.195247e-38</td>\n",
       "      <td>7.912627e-38</td>\n",
       "      <td>2.884525e-38</td>\n",
       "      <td>9.237552e-39</td>\n",
       "      <td>1.976199e-38</td>\n",
       "      <td>5.478071e-38</td>\n",
       "      <td>...</td>\n",
       "      <td>3.143051e-40</td>\n",
       "      <td>4.732241e-40</td>\n",
       "      <td>2.407628e-40</td>\n",
       "      <td>1.854254e-40</td>\n",
       "      <td>1.770071e-40</td>\n",
       "      <td>3.505892e-40</td>\n",
       "      <td>1.656219e-40</td>\n",
       "      <td>1.040945e-40</td>\n",
       "      <td>2.193011e-40</td>\n",
       "      <td>3.402488e-41</td>\n",
       "    </tr>\n",
       "    <tr>\n",
       "      <th>2</th>\n",
       "      <td>3.0</td>\n",
       "      <td>2.745775e-40</td>\n",
       "      <td>2.702434e-40</td>\n",
       "      <td>3.047202e-40</td>\n",
       "      <td>4.195247e-38</td>\n",
       "      <td>7.912627e-38</td>\n",
       "      <td>2.884525e-38</td>\n",
       "      <td>9.237552e-39</td>\n",
       "      <td>1.976199e-38</td>\n",
       "      <td>5.478071e-38</td>\n",
       "      <td>...</td>\n",
       "      <td>3.143051e-40</td>\n",
       "      <td>4.732241e-40</td>\n",
       "      <td>2.407628e-40</td>\n",
       "      <td>1.854254e-40</td>\n",
       "      <td>1.770071e-40</td>\n",
       "      <td>3.505892e-40</td>\n",
       "      <td>1.656219e-40</td>\n",
       "      <td>1.040945e-40</td>\n",
       "      <td>2.193011e-40</td>\n",
       "      <td>3.402488e-41</td>\n",
       "    </tr>\n",
       "    <tr>\n",
       "      <th>3</th>\n",
       "      <td>4.0</td>\n",
       "      <td>2.745775e-40</td>\n",
       "      <td>2.702434e-40</td>\n",
       "      <td>3.047202e-40</td>\n",
       "      <td>4.195247e-38</td>\n",
       "      <td>7.912627e-38</td>\n",
       "      <td>2.884525e-38</td>\n",
       "      <td>9.237552e-39</td>\n",
       "      <td>1.976199e-38</td>\n",
       "      <td>5.478071e-38</td>\n",
       "      <td>...</td>\n",
       "      <td>3.143051e-40</td>\n",
       "      <td>4.732241e-40</td>\n",
       "      <td>2.407628e-40</td>\n",
       "      <td>1.854254e-40</td>\n",
       "      <td>1.770071e-40</td>\n",
       "      <td>3.505892e-40</td>\n",
       "      <td>1.656219e-40</td>\n",
       "      <td>1.040945e-40</td>\n",
       "      <td>2.193011e-40</td>\n",
       "      <td>3.402488e-41</td>\n",
       "    </tr>\n",
       "    <tr>\n",
       "      <th>4</th>\n",
       "      <td>5.0</td>\n",
       "      <td>2.745775e-40</td>\n",
       "      <td>2.702434e-40</td>\n",
       "      <td>3.047202e-40</td>\n",
       "      <td>4.195247e-38</td>\n",
       "      <td>7.912627e-38</td>\n",
       "      <td>2.884525e-38</td>\n",
       "      <td>9.237552e-39</td>\n",
       "      <td>1.976199e-38</td>\n",
       "      <td>5.478071e-38</td>\n",
       "      <td>...</td>\n",
       "      <td>3.143051e-40</td>\n",
       "      <td>4.732241e-40</td>\n",
       "      <td>2.407628e-40</td>\n",
       "      <td>1.854254e-40</td>\n",
       "      <td>1.770071e-40</td>\n",
       "      <td>3.505892e-40</td>\n",
       "      <td>1.656219e-40</td>\n",
       "      <td>1.040945e-40</td>\n",
       "      <td>2.193011e-40</td>\n",
       "      <td>3.402488e-41</td>\n",
       "    </tr>\n",
       "  </tbody>\n",
       "</table>\n",
       "<p>5 rows × 52 columns</p>\n",
       "</div>"
      ],
      "text/plain": [
       "    WL           6.0           6.1           6.2           6.3           6.4  \\\n",
       "0  1.0  2.745775e-40  2.702434e-40  3.047202e-40  4.195247e-38  7.912627e-38   \n",
       "1  2.0  2.745775e-40  2.702434e-40  3.047202e-40  4.195247e-38  7.912627e-38   \n",
       "2  3.0  2.745775e-40  2.702434e-40  3.047202e-40  4.195247e-38  7.912627e-38   \n",
       "3  4.0  2.745775e-40  2.702434e-40  3.047202e-40  4.195247e-38  7.912627e-38   \n",
       "4  5.0  2.745775e-40  2.702434e-40  3.047202e-40  4.195247e-38  7.912627e-38   \n",
       "\n",
       "            6.5           6.6           6.7           6.8  ...          10.1  \\\n",
       "0  2.884525e-38  9.237552e-39  1.976199e-38  5.478071e-38  ...  3.143051e-40   \n",
       "1  2.884525e-38  9.237552e-39  1.976199e-38  5.478071e-38  ...  3.143051e-40   \n",
       "2  2.884525e-38  9.237552e-39  1.976199e-38  5.478071e-38  ...  3.143051e-40   \n",
       "3  2.884525e-38  9.237552e-39  1.976199e-38  5.478071e-38  ...  3.143051e-40   \n",
       "4  2.884525e-38  9.237552e-39  1.976199e-38  5.478071e-38  ...  3.143051e-40   \n",
       "\n",
       "           10.2          10.3          10.4          10.5          10.6  \\\n",
       "0  4.732241e-40  2.407628e-40  1.854254e-40  1.770071e-40  3.505892e-40   \n",
       "1  4.732241e-40  2.407628e-40  1.854254e-40  1.770071e-40  3.505892e-40   \n",
       "2  4.732241e-40  2.407628e-40  1.854254e-40  1.770071e-40  3.505892e-40   \n",
       "3  4.732241e-40  2.407628e-40  1.854254e-40  1.770071e-40  3.505892e-40   \n",
       "4  4.732241e-40  2.407628e-40  1.854254e-40  1.770071e-40  3.505892e-40   \n",
       "\n",
       "           10.7          10.8          10.9          11.0  \n",
       "0  1.656219e-40  1.040945e-40  2.193011e-40  3.402488e-41  \n",
       "1  1.656219e-40  1.040945e-40  2.193011e-40  3.402488e-41  \n",
       "2  1.656219e-40  1.040945e-40  2.193011e-40  3.402488e-41  \n",
       "3  1.656219e-40  1.040945e-40  2.193011e-40  3.402488e-41  \n",
       "4  1.656219e-40  1.040945e-40  2.193011e-40  3.402488e-41  \n",
       "\n",
       "[5 rows x 52 columns]"
      ]
     },
     "execution_count": 3,
     "metadata": {},
     "output_type": "execute_result"
    }
   ],
   "source": [
    "ss_z002.head()"
   ]
  },
  {
   "cell_type": "markdown",
   "metadata": {},
   "source": [
    "Additionally, we're going to be working with optical data, so let's crop our spectra. \n",
    "\n",
    "Because we are using `pandas`, we don't have to individually crope each spectrum, we can easily take care of the whole DataFrames."
   ]
  },
  {
   "cell_type": "code",
   "execution_count": 4,
   "metadata": {},
   "outputs": [
    {
     "ename": "NameError",
     "evalue": "name 'ss_z020' is not defined",
     "output_type": "error",
     "traceback": [
      "\u001b[0;31m---------------------------------------------------------------------------\u001b[0m",
      "\u001b[0;31mNameError\u001b[0m                                 Traceback (most recent call last)",
      "\u001b[0;32m<ipython-input-4-1a40a65b9e69>\u001b[0m in \u001b[0;36m<module>\u001b[0;34m\u001b[0m\n\u001b[1;32m      1\u001b[0m \u001b[0mss_z002\u001b[0m \u001b[0;34m=\u001b[0m \u001b[0mss_z002\u001b[0m\u001b[0;34m[\u001b[0m\u001b[0;34m(\u001b[0m\u001b[0mss_z002\u001b[0m\u001b[0;34m.\u001b[0m\u001b[0mWL\u001b[0m\u001b[0;34m>\u001b[0m\u001b[0;36m4000\u001b[0m\u001b[0;34m)\u001b[0m \u001b[0;34m&\u001b[0m \u001b[0;34m(\u001b[0m\u001b[0mss_z002\u001b[0m\u001b[0;34m.\u001b[0m\u001b[0mWL\u001b[0m\u001b[0;34m<\u001b[0m\u001b[0;36m9000\u001b[0m\u001b[0;34m)\u001b[0m\u001b[0;34m]\u001b[0m\u001b[0;34m\u001b[0m\u001b[0;34m\u001b[0m\u001b[0m\n\u001b[0;32m----> 2\u001b[0;31m \u001b[0mss_z020\u001b[0m \u001b[0;34m=\u001b[0m \u001b[0mss_z020\u001b[0m\u001b[0;34m[\u001b[0m\u001b[0;34m(\u001b[0m\u001b[0mss_z020\u001b[0m\u001b[0;34m.\u001b[0m\u001b[0mWL\u001b[0m\u001b[0;34m>\u001b[0m\u001b[0;36m4000\u001b[0m\u001b[0;34m)\u001b[0m \u001b[0;34m&\u001b[0m \u001b[0;34m(\u001b[0m\u001b[0mss_z020\u001b[0m\u001b[0;34m.\u001b[0m\u001b[0mWL\u001b[0m\u001b[0;34m<\u001b[0m\u001b[0;36m9000\u001b[0m\u001b[0;34m)\u001b[0m\u001b[0;34m]\u001b[0m\u001b[0;34m\u001b[0m\u001b[0;34m\u001b[0m\u001b[0m\n\u001b[0m",
      "\u001b[0;31mNameError\u001b[0m: name 'ss_z020' is not defined"
     ]
    }
   ],
   "source": [
    "ss_z002 = ss_z002[(ss_z002.WL>4000) & (ss_z002.WL<9000)]\n",
    "ss_z020 = ss_z020[(ss_z020.WL>4000) & (ss_z020.WL<9000)]"
   ]
  },
  {
   "cell_type": "markdown",
   "metadata": {},
   "source": [
    "# Plotting a spectrum\n",
    "\n",
    "Now that we have loaded our spectra we can plot them!\n",
    "\n",
    "**At different metallicities**"
   ]
  },
  {
   "cell_type": "code",
   "execution_count": null,
   "metadata": {},
   "outputs": [],
   "source": [
    "plt.figure(figsize=(10,5))\n",
    "\n",
    "plt.plot(ss_z002.WL, ss_z002['9.0'], label='Z=0.1 Z_sun', lw=0.5)\n",
    "plt.plot(ss_z002.WL, ss_z020['9.0'], label='Z=Z_sun', lw=0.5)\n",
    "\n",
    "plt.title('Different Metallicities - log(Age)=9.0')\n",
    "plt.xlabel(r'Wavelength ($\\AA$)')\n",
    "plt.ylabel(r'Flux')\n",
    "plt.legend()"
   ]
  },
  {
   "cell_type": "markdown",
   "metadata": {},
   "source": [
    "**At different ages**"
   ]
  },
  {
   "cell_type": "code",
   "execution_count": null,
   "metadata": {
    "scrolled": false
   },
   "outputs": [],
   "source": [
    "plt.figure(figsize=(10,5))\n",
    "\n",
    "plt.plot(ss_z002.WL, ss_z020['6.0'], label='1 Myr', lw=1)\n",
    "plt.plot(ss_z002.WL, ss_z020['8.0'], label='100 Myr', lw=1)\n",
    "plt.plot(ss_z002.WL, ss_z020['9.0'], label='1 Gr', lw=1)\n",
    "plt.plot(ss_z002.WL, ss_z020['10.0'], label='10 Gyr', lw=1)\n",
    "\n",
    "plt.title('Different Ages - Z=Z_sun')\n",
    "plt.xlabel(r'Wavelength ($\\AA$)')\n",
    "plt.ylabel(r'Flux')\n",
    "plt.legend()"
   ]
  },
  {
   "cell_type": "markdown",
   "metadata": {},
   "source": [
    "The vast difference in scales makes it tough to see the older spectra (and their forests of lines) so let's **normalise** everything. We could write a little function but why re-invent the wheel? `sklearn` has some great statistical tools including a variety of normalising methods. Let's use `MinMaxScaler()`, which simply makes sure the top values == 1 and lowest value == 0. "
   ]
  },
  {
   "cell_type": "code",
   "execution_count": null,
   "metadata": {},
   "outputs": [],
   "source": [
    "WL = ss_z020.WL.values # Since all the wavelength ranges are the same let's give it a single name\n",
    "\n",
    "\n",
    "# The 'fit_transform()' function might sound like a weird name but it makes sense when \n",
    "# you are familiar with the whole sklearn framework: it is consistent with all their other tools.\n",
    "# Also note that sklearn takes in numpy arrays and returns numpy arrays. That means we have to\n",
    "# input our dataframe with .values, and place the output back into a DataFrame (if that's the format we want).\n",
    "\n",
    "ss_z020_scaled = pd.DataFrame(MinMaxScaler().fit_transform(ss_z020.values)[:,1:], # Not doing the wavelength column\n",
    "                              columns = ss_z020.columns[1:]) # We also have to provide column names.\n",
    "\n",
    "# And now we do the same for a tenth solar!\n",
    "ss_z002_scaled = pd.DataFrame(MinMaxScaler().fit_transform(ss_z002.values)[:,1:], \n",
    "                              columns = ss_z002.columns[1:])"
   ]
  },
  {
   "cell_type": "code",
   "execution_count": null,
   "metadata": {},
   "outputs": [],
   "source": [
    "plt.figure(figsize=(10,5))\n",
    "\n",
    "plt.plot(WL, ss_z020_scaled['6.0'], label='1 Myr', lw=2, zorder=5)\n",
    "plt.plot(WL, ss_z020_scaled['8.0'], label='100 Myr', lw=0.5, zorder=4)\n",
    "plt.plot(WL, ss_z020_scaled['9.0'], label='1 Gr', lw=0.5, zorder=3)\n",
    "plt.plot(WL, ss_z020_scaled['10.0'], label='10 Gyr', lw=0.5, zorder=2)\n",
    "\n",
    "plt.title('Different Ages (Normalised)')\n",
    "plt.xlabel(r'Wavelength ($\\AA$)')\n",
    "plt.ylabel(r'Flux')\n",
    "plt.legend()"
   ]
  },
  {
   "cell_type": "code",
   "execution_count": null,
   "metadata": {},
   "outputs": [],
   "source": [
    "# Now you can try to make a similar plot for a tenth solar and a different range of ages!\n",
    "\n",
    "\n"
   ]
  },
  {
   "cell_type": "markdown",
   "metadata": {},
   "source": [
    "# Comparing to some real data\n",
    "\n",
    "Now let's play with some real data! We're going to be looking at NGC 4993 (the host galaxy of GW1708017) and then at some SDSS templates.\n",
    "\n",
    "### NGC 4993\n",
    "\n",
    "First, let's put it in a `pandas.DataFrame` and see what we've got. "
   ]
  },
  {
   "cell_type": "code",
   "execution_count": null,
   "metadata": {},
   "outputs": [],
   "source": [
    "ngc4993 = pd.read_csv('./data/spectra/ngc4993.dat', sep=r\"\\s+\", engine='python')"
   ]
  },
  {
   "cell_type": "code",
   "execution_count": null,
   "metadata": {},
   "outputs": [],
   "source": [
    "# Just to see what the Data Frame looks like\n",
    "ngc4993.head()"
   ]
  },
  {
   "cell_type": "code",
   "execution_count": null,
   "metadata": {},
   "outputs": [],
   "source": [
    "# and now we plot it\n",
    "plt.figure(figsize=(10,5))\n",
    "plt.plot(ngc4993.WL, ngc4993.Counts)\n",
    "plt.xlabel(r'Wavelength ($\\AA$)')\n",
    "plt.ylabel(r'Flux (Counts)')\n",
    "plt.title('NGC 4993')"
   ]
  },
  {
   "cell_type": "markdown",
   "metadata": {},
   "source": [
    "This spectrum is in counts and obviously the amplitude is not going to match that of our synthetic spectra. So let's normalise this too!"
   ]
  },
  {
   "cell_type": "code",
   "execution_count": null,
   "metadata": {},
   "outputs": [],
   "source": [
    "ngc4993_scaled = pd.DataFrame(MinMaxScaler().fit_transform(ngc4993.values), columns = ['WL', 'Counts'])\n",
    "ngc4993_scaled['WL'] = ngc4993['WL'] # Because with the operation above we also scaled the WL -- makes no sense. "
   ]
  },
  {
   "cell_type": "markdown",
   "metadata": {},
   "source": [
    "Another thing to remember is that a real spectrum will be redshifted. **There is a basic doppler correction within `hoki`** which you can use to take care of that. Note it will **change in place**."
   ]
  },
  {
   "cell_type": "code",
   "execution_count": null,
   "metadata": {},
   "outputs": [],
   "source": [
    "dopcor(ngc4993_scaled, z=0.009727)"
   ]
  },
  {
   "cell_type": "markdown",
   "metadata": {},
   "source": [
    "### Finding the best match\n",
    "\n",
    "The goal here is to find the best synthetic spectrum corresponding to our observed spectrum. In this tutorial we will do this visually. Let's plot a range of ages and see what we get."
   ]
  },
  {
   "cell_type": "code",
   "execution_count": null,
   "metadata": {},
   "outputs": [],
   "source": [
    "plt.figure(figsize=(11,5))\n",
    "\n",
    "WL = ss_z002.WL\n",
    "# The BPASS spectra\n",
    "plt.plot( WL, ss_z020_scaled['7.0'], alpha=0.95, lw=0.5, label='log(age)=7.0')\n",
    "plt.plot( WL, ss_z020_scaled['8.0'], alpha=0.95, lw=0.5, label='log(age)=8.0')\n",
    "plt.plot( WL, ss_z020_scaled['8.7'], alpha=0.95, lw=0.5, label='log(age)=8.7')\n",
    "plt.plot( WL, ss_z020_scaled['9.0'], alpha=0.95, lw=0.5, label='log(age)=9.0')\n",
    "plt.plot( WL, ss_z020_scaled['10.0'], alpha=0.95, color='grey', lw=0.5, label='log(age)=10.0')\n",
    "\n",
    "# The observational data\n",
    "plt.plot(ngc4993_scaled.WL, ngc4993_scaled.Counts, alpha=0.95, c='k', label='NGC4993')\n",
    "\n",
    "# Polishing the plot\n",
    "plt.xlabel(r'Wavelength ($\\AA$)')\n",
    "plt.ylabel(r'Normalised Flux')\n",
    "plt.xlim([4000,10500])\n",
    "plt.title('Synthetic Spectra and NGC 4993')\n",
    "plt.legend(loc='right', fontsize='large')"
   ]
  },
  {
   "cell_type": "markdown",
   "metadata": {},
   "source": [
    "There is an obvious drop in the flux in the red part of our NGC 4993 spectrum. That's not the galaxy - it could be something to do with the filter used or another observational reason, so let's focus on the short wavelengths. \n",
    "\n",
    "It looks like older ages are a better match. Here is the one I thought fitted best, but feel free to make your own plots and see if you can get a better result!"
   ]
  },
  {
   "cell_type": "code",
   "execution_count": null,
   "metadata": {},
   "outputs": [],
   "source": [
    "plt.figure(figsize=(11,5))\n",
    "plt.plot( WL, ss_z020_scaled['10.4'],\n",
    "         alpha=0.95, lw=0.5, label='log(age)=10.4')\n",
    "\n",
    "plt.plot(ngc4993_scaled.WL, ngc4993_scaled.Counts-0.1, alpha=0.95, c='k', label='NGC4993')\n",
    "plt.xlabel(r'Wavelength ($\\AA$)')\n",
    "plt.ylabel(r'Normalised Flux')\n",
    "plt.xlim([4000,10500])\n",
    "plt.title('Best (?) Synthetic Spectra and NGC 4993')\n",
    "plt.legend(loc='right', fontsize='large')"
   ]
  },
  {
   "cell_type": "markdown",
   "metadata": {},
   "source": [
    "### SDSS data \n",
    "\n",
    "Now let's take a look at some SDSS templates. In the folder `./data/spectra` you should have two fits files corresponding to an early-type galaxy and an indescriminate galaxy template (`spDR2-023.fit` and `spDR2-024.fit`, respectively).\n",
    "\n",
    "Note that these spectra are given as fits files and it's beyond the scope of this tutorial to walk you through turning them into a pythonic data structure, so I've made the `extract_sdss_spectrum()` function which you can simply run to turn these spectra into a simple and convenient DataFrame.  "
   ]
  },
  {
   "cell_type": "code",
   "execution_count": null,
   "metadata": {},
   "outputs": [],
   "source": [
    "from astropy.io import fits\n",
    "\n",
    "def extract_sdss_spectrum(dataloc):\n",
    "    \"\"\"\n",
    "    Some Python magic to turn sdss fits files into dataframes ;) \n",
    "    \n",
    "    You don't have to pay too much attention. \n",
    "    If you're curious read the comments or feel free to send me an email: hfstevance@gmail.com or DM me @sydonahi\n",
    "    \"\"\"\n",
    "    sdss_data = fits.open(dataloc)\n",
    "    \n",
    "    # Normalising with sklearn\n",
    "    scaled_flux = MinMaxScaler().fit_transform(sdss_data[0].data[0].reshape(-1,1))\n",
    "    \n",
    "    # A list comprehension incantation to make the wavelength appear **** wizard ****\n",
    "    wl = [10**(sdss_data[0].header['COEFF0']+sdss_data[0].header['COEFF1']*i) \n",
    "          for i in range(sdss_data[0].data.shape[1])]\n",
    "    \n",
    "    # Making the dataframe\n",
    "    df = pd.DataFrame(np.array([wl,scaled_flux.reshape(sdss_data[0].data[0].shape[0])]).T, \n",
    "                      columns=['WL', 'Flux'])\n",
    "    return df"
   ]
  },
  {
   "cell_type": "markdown",
   "metadata": {},
   "source": [
    "Let's get our SDSS spectra and take a look at them."
   ]
  },
  {
   "cell_type": "code",
   "execution_count": null,
   "metadata": {},
   "outputs": [],
   "source": [
    "early_type_gal = extract_sdss_spectrum('./data/spectra/spDR2-023.fit')\n",
    "gal = extract_sdss_spectrum('./data/spectra/spDR2-024.fit')"
   ]
  },
  {
   "cell_type": "code",
   "execution_count": null,
   "metadata": {},
   "outputs": [],
   "source": [
    "plt.figure(figsize=(11,5))\n",
    "plt.plot(early_type_gal.WL, early_type_gal.Flux, label='Early Type Galaxy template')\n",
    "plt.plot(gal.WL, gal.Flux, label='Random Galaxy template')\n",
    "\n",
    "\n",
    "plt.xlabel(r'Wavelength ($\\AA$)')\n",
    "plt.ylabel(r'Normalised Flux')\n",
    "plt.xlim([4000,9000])\n",
    "plt.title('SDSS templates')\n",
    "plt.legend()"
   ]
  },
  {
   "cell_type": "markdown",
   "metadata": {},
   "source": [
    "Note a very interesting effect here in our Random Galaxy template: the large nebular line is messing with our scaler and when we want to fit it we're probably going to have to go and add a scale factor by hand so that the other features are of the same kind of amplitude as those in our synthetic spectra!\n",
    "\n",
    "Anyway, for now we're going to focus on the Early Type Galaxy and see if we can find a template that matches. Again, let's just do it by eye. "
   ]
  },
  {
   "cell_type": "code",
   "execution_count": null,
   "metadata": {},
   "outputs": [],
   "source": [
    "f, ax = plt.subplots(3, figsize=(10,15))\n",
    "\n",
    "ax[0].plot( WL, ss_z020_scaled['9.0'],\n",
    "         alpha=0.95, lw=0.5, label='log(age)=9.0', color='grey')\n",
    "ax[0].text(6000, 0.2, 'Too Young', fontsize=20)\n",
    "ax[1].plot( WL, ss_z020_scaled['11.0'],\n",
    "         alpha=0.95, lw=0.5, label='log(age)=11.0', color='grey')\n",
    "ax[1].text(6000, 0.2, 'Too Old', fontsize=20)\n",
    "ax[2].plot( WL, ss_z020_scaled['10.4'],\n",
    "         alpha=0.95, lw=0.5, label='log(age)=10.4', color='grey')\n",
    "ax[2].text(6000, 0.2, 'Not Bad ;)', fontsize=20)\n",
    "\n",
    "\n",
    "for axis in ax:\n",
    "    axis.plot(early_type_gal.WL, early_type_gal.Flux-0.05, label='Early type galaxy')\n",
    "    axis.set_xlabel(r'Wavelength ($\\AA$)')\n",
    "    axis.set_ylabel(r'Norm. Flux')\n",
    "    axis.set_xlim([4000,9000])\n",
    "    axis.legend()\n",
    "\n"
   ]
  },
  {
   "cell_type": "markdown",
   "metadata": {},
   "source": [
    "Feel free to play around with other ages (or even metalicities!) but a log(age) = 10.4 is not unsurprising for an Early Type Galaxy which we expect to have a relatively old stellar population (and log(age)=11.0 is much older than the age of the Universe so that was never going to work haha)."
   ]
  },
  {
   "cell_type": "markdown",
   "metadata": {},
   "source": [
    "# Doing operations on Spectra\n",
    "\n",
    "Within the `pandas` framework it is trivial to add spectra and perform mathematical operations on them. \n",
    "\n",
    "As an example, let's add together an old and a very young stellar population. Arbitrarily I've picked a log(age) of 6.2 and 10.5, but feel free to play around with it yourself!"
   ]
  },
  {
   "cell_type": "code",
   "execution_count": null,
   "metadata": {},
   "outputs": [],
   "source": [
    "old_and_young = ss_z020_scaled['6.2'] + ss_z020_scaled['10.5']"
   ]
  },
  {
   "cell_type": "code",
   "execution_count": null,
   "metadata": {},
   "outputs": [],
   "source": [
    "f, ax = plt.subplots(3, figsize=(10,15))\n",
    "\n",
    "ax[0].plot( WL, ss_z020_scaled['6.2'],\n",
    "         alpha=0.95, color='grey')\n",
    "ax[0].text(6000, 0.6, 'log(Age)=6.2', fontsize=20)\n",
    "\n",
    "ax[1].plot( WL, ss_z020_scaled['10.5'],\n",
    "         alpha=0.95, lw=0.5, color='grey')\n",
    "ax[1].text(6000, 0.2, 'log(Age)=10.5', fontsize=20)\n",
    "\n",
    "ax[2].plot( WL, old_and_young,\n",
    "         alpha=0.95, lw=0.5, color='grey')\n",
    "ax[2].text(6000, 0.4, 'log(Age)= 6.2 + 10.5', fontsize=20)\n",
    "\n",
    "\n",
    "for axis in ax:\n",
    "    axis.set_xlabel(r'Wavelength ($\\AA$)')\n",
    "    axis.set_ylabel(r'Norm. Flux')\n",
    "    axis.set_xlim([4000,9000])\n"
   ]
  },
  {
   "cell_type": "markdown",
   "metadata": {},
   "source": [
    "You can also add spectra in **different proportions** by simply adding **scale factors**. Multiplications, divisions and most daily mathematical operations are easily done:"
   ]
  },
  {
   "cell_type": "code",
   "execution_count": null,
   "metadata": {},
   "outputs": [],
   "source": [
    "plt.figure(figsize=(10,7))\n",
    "\n",
    "plt.plot(WL, (ss_z020_scaled['6.2'] + ss_z020_scaled['10.5']*0.5)+1,\n",
    "         lw=0.5, alpha=0.8, label='Old*0.5 + Young')\n",
    "\n",
    "plt.plot(WL, (ss_z020_scaled['6.2'] + ss_z020_scaled['10.5'])+0.3, \n",
    "         lw=0.5, alpha=0.8, label='Old + Young')\n",
    "\n",
    "plt.plot(WL, (ss_z020_scaled['6.2']*0.5 + ss_z020_scaled['10.5']),\n",
    "         lw=0.5, alpha=0.8, label='Old + Young * 0.5')\n",
    "\n",
    "plt.xlabel(r'Wavelength ($\\AA$)')\n",
    "plt.ylabel(r'Normalised Flux + Offset')\n",
    "plt.xlim([4000,9000])\n",
    "plt.legend()"
   ]
  },
  {
   "cell_type": "markdown",
   "metadata": {},
   "source": [
    "## Using Filters\n",
    "\n",
    "Many telescopes use physical filter to increase the signal-to-noise ratio, but they restrict the observed wavelength region. So, we need to apply the same filtering ditigally to our BPASS spectrum for a fair comparison. For this purpose, we need a filter profile (also known as bandpass). This describes the fraction of light transmission through the filter.\n",
    "\n",
    "An extremely useful package for this is the `pysynphot` package. Originally created for use with the Hubble Space Telescope, it has been extended to custom spectra and filters. \n",
    "\n",
    "`hoki.spec` contains functions to implement BPASS spectra with the `pysynphot` package. \n",
    "Here, we will apply a HST filter to a BPASS spectrum, but more information can be found in [the pysynphot documentation](https://pysynphot.readthedocs.io/en/latest/index.html). \n"
   ]
  },
  {
   "cell_type": "markdown",
   "metadata": {},
   "source": [
    "Using `load_bandpass()`, we can load a `pysynphot` build-in filter or load a custom filter from a file. The file must contain a VOTable with the filter profile and the name of the filter as the second parameter. These can be found on the [SVO Filter Profile Service](http://svo2.cab.inta-csic.es/theory/fps/)."
   ]
  },
  {
   "cell_type": "code",
   "execution_count": null,
   "metadata": {},
   "outputs": [],
   "source": [
    "# Loading build-in pysynphot filter\n",
    "bp = hoki.spec.load_bandpass(f\"acs,hrc,f220w\")\n",
    "\n",
    "# Loading custom filter \n",
    "custom_bp = hoki.spec.load_bandpass(f\"{data_path}/HST.ACS_HRC.F220W.xml\")"
   ]
  },
  {
   "cell_type": "code",
   "execution_count": null,
   "metadata": {},
   "outputs": [],
   "source": [
    "plt.plot(custom_bp.wave, custom_bp.throughput)\n",
    "plt.plot(bp.wave, bp.throughput, 'g--')\n",
    "plt.xlabel(\"Angstrom\")\n",
    "plt.ylabel(\"Transmission\")\n",
    "plt.xlim(1500,4000)\n",
    "plt.show()"
   ]
  },
  {
   "cell_type": "markdown",
   "metadata": {},
   "source": [
    "`hoki.spce.get_spectrum()` takes BPASS output and turns it into a pysynphot Spectrum with 1 Angstrom width bins and erg/s/Angstrom as the flux. This allows it a bandpass to be applied to it. "
   ]
  },
  {
   "cell_type": "code",
   "execution_count": null,
   "metadata": {},
   "outputs": [],
   "source": [
    "# Reloading input spectra\n",
    "ss_z002 = load.model_output(f\"{data_path}/spectra-bin-imf135_300.z002.dat\")\n",
    "\n",
    "sp = hoki.spec.get_spectrum(ss_z002.WL.values, ss_z002[\"6.0\"].values)"
   ]
  },
  {
   "cell_type": "code",
   "execution_count": null,
   "metadata": {},
   "outputs": [],
   "source": [
    "plt.plot(sp.wave, sp.flux)\n",
    "plt.xlabel(\"Angstrom\")\n",
    "plt.ylabel(\"Luminosty per Wavelength [erg/s/$\\AA$]\")\n",
    "plt.title(\"BPASS Spectrum [log_{10}(age)=6.0]\")\n",
    "plt.xlim(100,3000)\n",
    "plt.show()"
   ]
  },
  {
   "cell_type": "code",
   "execution_count": null,
   "metadata": {
    "scrolled": false
   },
   "outputs": [],
   "source": [
    "# combine the spectra and the bandpass\n",
    "obs = hoki.spec.apply_bandpass(sp, bp)"
   ]
  },
  {
   "cell_type": "code",
   "execution_count": null,
   "metadata": {},
   "outputs": [],
   "source": [
    "plt.plot(obs.wave,obs.flux)\n",
    "plt.title(\"Filtered BPASS Spectrum [log_{10}(age)=6.0]\")\n",
    "plt.xlabel(\"Angstrom\")\n",
    "plt.ylabel(\"Luminosty per Wavelength [erg/s/$\\AA$]\")\n",
    "plt.xlim(100,3000)\n",
    "plt.show()"
   ]
  },
  {
   "cell_type": "markdown",
   "metadata": {},
   "source": [
    "## Magnitude calculations\n",
    "\n",
    "Bandpass filter measurements are common to be given in magnitudes, either absolute or apparent.\n",
    "Since we're not comparing the spectrum to a physical object with a measured distance, we will calculate the absolute magnitude of the object in the Vega system. (object at 10pc)\n",
    "\n",
    "This calculation can be done using the `flux_to_vegamag` function. It expects a pysynphot Bandpass and Observation object, with an optional distance, such that an apparent magnitude can be calculated.\n",
    "\n",
    "The Observation's flux has to be in erg/s/Angstrom. \n"
   ]
  },
  {
   "cell_type": "code",
   "execution_count": null,
   "metadata": {},
   "outputs": [],
   "source": [
    "mag = hoki.spec.flux_to_vegamag(bp, obs)\n",
    "print(f\"Absolute Magnitude: {mag}\")"
   ]
  },
  {
   "cell_type": "markdown",
   "metadata": {},
   "source": [
    "# It's your turn now!\n",
    "\n",
    "Remember the random galaxy with the naughty nebular line that messed with the effectivnes of our normalisation? \n",
    "\n",
    "Let's go back to it!\n",
    "\n",
    "**You now know how to select different synthetic spectra and how to scale them, now go ahead and find the best synthetic spectrum and scale factor combination!** \n",
    "\n",
    "*(You ca just assume a stellar population with a single age, but feel free to have fun and combine stuff if you feel like it)*"
   ]
  },
  {
   "cell_type": "code",
   "execution_count": null,
   "metadata": {},
   "outputs": [],
   "source": [
    "### Your code here\n",
    "\n"
   ]
  },
  {
   "cell_type": "markdown",
   "metadata": {},
   "source": [
    "---\n",
    "\n",
    "**YOU'RE ALL SET!**\n",
    "\n",
    "I hope you found this tutorial useful. If you encountered any problems, or would like to make a suggestion, feel free to open an issue on `hoki` GitHub page [here](https://github.com/HeloiseS/hoki) or on the `hoki_tutorials` GitHub [there](https://github.com/HeloiseS/hoki_tutorials)."
   ]
  }
 ],
 "metadata": {
  "kernelspec": {
   "display_name": "Python 3",
   "language": "python",
   "name": "python3"
  },
  "language_info": {
   "codemirror_mode": {
    "name": "ipython",
    "version": 3
   },
   "file_extension": ".py",
   "mimetype": "text/x-python",
   "name": "python",
   "nbconvert_exporter": "python",
   "pygments_lexer": "ipython3",
   "version": "3.7.7"
  }
 },
 "nbformat": 4,
 "nbformat_minor": 2
}
